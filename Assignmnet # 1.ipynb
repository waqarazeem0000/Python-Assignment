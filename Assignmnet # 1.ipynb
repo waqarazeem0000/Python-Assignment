{
 "cells": [
  {
   "cell_type": "code",
   "execution_count": 52,
   "metadata": {},
   "outputs": [
    {
     "name": "stdout",
     "output_type": "stream",
     "text": [
      "1. Write a Python program to print the following string in a specific format\n",
      "\n",
      "Twinkle, twinkle, little star,\n",
      "       How I wonder what you are!\n",
      "            Up above the world so high,\n",
      "            Like a diamond in the sky.\n",
      "Twinkle, twinkle, little star,\n",
      "       How I wonder what you are!\n"
     ]
    }
   ],
   "source": [
    "print(\"1. Write a Python program to print the following string in a specific format\")\n",
    "print(\"\")\n",
    "print(\"Twinkle, twinkle, little star,\")\n",
    "print(\"       \"+\"How I wonder what you are!\")\n",
    "print(\"            \"+\"Up above the world so high,\")\n",
    "print(\"            \"+\"Like a diamond in the sky.\")\n",
    "print(\"Twinkle, twinkle, little star,\")\n",
    "print(\"       \"+\"How I wonder what you are!\")"
   ]
  },
  {
   "cell_type": "code",
   "execution_count": 19,
   "metadata": {},
   "outputs": [
    {
     "name": "stdout",
     "output_type": "stream",
     "text": [
      "2. Write a Python program to get the Python version you are using\n",
      "\n",
      "Python version I'm using is : 3.7.4\n"
     ]
    }
   ],
   "source": [
    "print(\"2. Write a Python program to get the Python version you are using\")\n",
    "print(\"\")\n",
    "from platform import python_version\n",
    "print(\"Python version I'm using is : \"+python_version())"
   ]
  },
  {
   "cell_type": "code",
   "execution_count": 30,
   "metadata": {},
   "outputs": [
    {
     "name": "stdout",
     "output_type": "stream",
     "text": [
      "3. Write a Python program to display the current date and time.\n",
      "\n",
      "Current date is : 2019-11-05\n",
      "\n",
      "Current time is : 19:29:30\n",
      "\n"
     ]
    }
   ],
   "source": [
    "print(\"3. Write a Python program to display the current date and time.\")\n",
    "print(\"\")\n",
    "import datetime\n",
    "now = datetime.datetime.now()\n",
    "print (\"Current date is : \"+ now.strftime(\"%Y-%m-%d\"))\n",
    "print (\"\")\n",
    "\n",
    "print (\"Current time is : \"+now.strftime(\"%H:%M:%S\"))\n",
    "print (\"\")"
   ]
  },
  {
   "cell_type": "code",
   "execution_count": 50,
   "metadata": {},
   "outputs": [
    {
     "name": "stdout",
     "output_type": "stream",
     "text": [
      "4. Write a Python program which accepts the radius of a circle from the user and compute the area.\n",
      "\n",
      "Enter Radius of a Circle in cm : 12\n",
      "Total area of Circle is : 452.38896 cm\n"
     ]
    }
   ],
   "source": [
    "print(\"4. Write a Python program which accepts the radius of a circle from the user and compute the area.\")\n",
    "print(\"\")\n",
    "radius=float(input(\"Enter Radius of a Circle in cm : \"))\n",
    "Area=str(3.14159*(radius**2))\n",
    "print(\"Total area of Circle is : \"+Area+\" cm\")\n"
   ]
  },
  {
   "cell_type": "code",
   "execution_count": 42,
   "metadata": {},
   "outputs": [
    {
     "name": "stdout",
     "output_type": "stream",
     "text": [
      "Enter your First name : waqar\n",
      "Enter your Last name : azeem\n",
      "\n",
      "Full Name : azeem waqar\n"
     ]
    }
   ],
   "source": [
    "print(\"5. Write a Python program which accepts the user's first and last name and print them in reverse order with a space between them.\")\n",
    "print(\"\")\n",
    "first_name = input(\"Enter your First name : \")\n",
    "Last_name = input(\"Enter your Last name : \")\n",
    "print(\"\")\n",
    "print(\"Full Name : \"+Last_name+\" \"+first_name)"
   ]
  },
  {
   "cell_type": "code",
   "execution_count": 49,
   "metadata": {},
   "outputs": [
    {
     "name": "stdout",
     "output_type": "stream",
     "text": [
      "enter first value44\n",
      "enter second value55\n",
      "Addition of provided two value is : 99\n"
     ]
    }
   ],
   "source": [
    "print(\"6. Write a python program which takes two inputs from user and print them addition\")\n",
    "print(\"\")\n",
    "\n",
    "number1=int(input(\"enter first value\"))\n",
    "number2=int(input(\"enter second value\"))\n",
    "\n",
    "print(\"Addition of provided two value is : \"+str(number1+number2))"
   ]
  },
  {
   "cell_type": "code",
   "execution_count": null,
   "metadata": {},
   "outputs": [],
   "source": []
  }
 ],
 "metadata": {
  "kernelspec": {
   "display_name": "Python 3",
   "language": "python",
   "name": "python3"
  },
  "language_info": {
   "codemirror_mode": {
    "name": "ipython",
    "version": 3
   },
   "file_extension": ".py",
   "mimetype": "text/x-python",
   "name": "python",
   "nbconvert_exporter": "python",
   "pygments_lexer": "ipython3",
   "version": "3.7.4"
  }
 },
 "nbformat": 4,
 "nbformat_minor": 2
}
